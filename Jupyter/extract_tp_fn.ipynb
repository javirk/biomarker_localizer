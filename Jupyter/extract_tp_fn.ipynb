{
 "cells": [
  {
   "cell_type": "code",
   "execution_count": 1,
   "metadata": {},
   "outputs": [],
   "source": [
    "import sys\n",
    "from pathlib import Path\n",
    "import os"
   ]
  },
  {
   "cell_type": "code",
   "execution_count": 2,
   "metadata": {},
   "outputs": [],
   "source": [
    "file = Path(os.path.abspath('')).resolve()\n",
    "parent, root = file.parent, file.parents[0]\n",
    "sys.path.append(str(root))"
   ]
  },
  {
   "cell_type": "code",
   "execution_count": 72,
   "metadata": {},
   "outputs": [],
   "source": [
    "import pandas as pd\n",
    "import matplotlib.pyplot as plt\n",
    "%matplotlib inline\n",
    "from libs.utils import get_rings\n",
    "from PIL import Image, ImageDraw, ImageFont, ImageOps\n",
    "from skimage import exposure\n",
    "import numpy as np"
   ]
  },
  {
   "cell_type": "code",
   "execution_count": 4,
   "metadata": {},
   "outputs": [],
   "source": [
    "biomarker = 'mm6_srf'\n",
    "threshold = 0.991\n",
    "N_SLICES = 49\n",
    "N_PIXEL_H = 496\n",
    "N_PIXEL_W = 512\n",
    "ring_diameters = [1, 3, 6]\n",
    "clahe = True\n",
    "folder_in_results = '111853 clahe'\n",
    "filename = 'validation_results_20210212-111853.csv'\n",
    "ring_extract = biomarker.split('_')[0]"
   ]
  },
  {
   "cell_type": "code",
   "execution_count": 5,
   "metadata": {},
   "outputs": [],
   "source": [
    "file_path = f'../results/{folder_in_results}/{filename}'"
   ]
  },
  {
   "cell_type": "code",
   "execution_count": 6,
   "metadata": {},
   "outputs": [],
   "source": [
    "data = pd.read_csv(file_path)\n",
    "data = data.rename(columns={'Unnamed: 0': 'image_name', 'Unnamed: 1': 'bscan'})"
   ]
  },
  {
   "cell_type": "code",
   "execution_count": 7,
   "metadata": {},
   "outputs": [],
   "source": [
    "datasets_path = file.parents[2].joinpath('Datasets', 'Location')"
   ]
  },
  {
   "cell_type": "code",
   "execution_count": 8,
   "metadata": {},
   "outputs": [],
   "source": [
    "mask_generator = get_rings(ring_diameters, N_SLICES, N_PIXEL_H, N_PIXEL_W)"
   ]
  },
  {
   "cell_type": "code",
   "execution_count": 9,
   "metadata": {},
   "outputs": [],
   "source": [
    "y_true = data[biomarker + '_true'].to_list()\n",
    "y_pred = data[biomarker + '_pred'].to_list()"
   ]
  },
  {
   "cell_type": "code",
   "execution_count": 10,
   "metadata": {},
   "outputs": [],
   "source": [
    "data['FN'] = [1 if y_pred[i] < threshold and y_true[i] == 1 else 0 for i in range(len(y_true))]\n",
    "data['FP'] = [1 if y_pred[i] > threshold and y_true[i] == 0 else 0 for i in range(len(y_true))]\n",
    "data['TP'] = [1 if y_pred[i] > threshold and y_true[i] == 1 else 0 for i in range(len(y_true))]"
   ]
  },
  {
   "cell_type": "code",
   "execution_count": 11,
   "metadata": {},
   "outputs": [
    {
     "data": {
      "text/html": [
       "<div>\n",
       "<style scoped>\n",
       "    .dataframe tbody tr th:only-of-type {\n",
       "        vertical-align: middle;\n",
       "    }\n",
       "\n",
       "    .dataframe tbody tr th {\n",
       "        vertical-align: top;\n",
       "    }\n",
       "\n",
       "    .dataframe thead th {\n",
       "        text-align: right;\n",
       "    }\n",
       "</style>\n",
       "<table border=\"1\" class=\"dataframe\">\n",
       "  <thead>\n",
       "    <tr style=\"text-align: right;\">\n",
       "      <th></th>\n",
       "      <th>image_name</th>\n",
       "      <th>bscan</th>\n",
       "      <th>healthy_true</th>\n",
       "      <th>present_srf_true</th>\n",
       "      <th>present_irf_true</th>\n",
       "      <th>mm1_srf_true</th>\n",
       "      <th>mm3_srf_true</th>\n",
       "      <th>mm6_srf_true</th>\n",
       "      <th>mm1_irf_true</th>\n",
       "      <th>mm3_irf_true</th>\n",
       "      <th>...</th>\n",
       "      <th>present_irf_pred</th>\n",
       "      <th>mm1_srf_pred</th>\n",
       "      <th>mm3_srf_pred</th>\n",
       "      <th>mm6_srf_pred</th>\n",
       "      <th>mm1_irf_pred</th>\n",
       "      <th>mm3_irf_pred</th>\n",
       "      <th>mm6_irf_pred</th>\n",
       "      <th>FN</th>\n",
       "      <th>FP</th>\n",
       "      <th>TP</th>\n",
       "    </tr>\n",
       "  </thead>\n",
       "  <tbody>\n",
       "    <tr>\n",
       "      <th>0</th>\n",
       "      <td>2150-001-OD-FE-SCR-KESTREL-191623.f540fea</td>\n",
       "      <td>0</td>\n",
       "      <td>1.0</td>\n",
       "      <td>0.0</td>\n",
       "      <td>0.0</td>\n",
       "      <td>0.0</td>\n",
       "      <td>0.0</td>\n",
       "      <td>0.0</td>\n",
       "      <td>0.0</td>\n",
       "      <td>0.0</td>\n",
       "      <td>...</td>\n",
       "      <td>0.001248</td>\n",
       "      <td>0.0</td>\n",
       "      <td>0.0</td>\n",
       "      <td>0.000449</td>\n",
       "      <td>0.0</td>\n",
       "      <td>0.0</td>\n",
       "      <td>0.005327</td>\n",
       "      <td>0</td>\n",
       "      <td>0</td>\n",
       "      <td>0</td>\n",
       "    </tr>\n",
       "    <tr>\n",
       "      <th>1</th>\n",
       "      <td>2150-001-OD-FE-SCR-KESTREL-191623.f540fea</td>\n",
       "      <td>1</td>\n",
       "      <td>1.0</td>\n",
       "      <td>0.0</td>\n",
       "      <td>0.0</td>\n",
       "      <td>0.0</td>\n",
       "      <td>0.0</td>\n",
       "      <td>0.0</td>\n",
       "      <td>0.0</td>\n",
       "      <td>0.0</td>\n",
       "      <td>...</td>\n",
       "      <td>0.000440</td>\n",
       "      <td>0.0</td>\n",
       "      <td>0.0</td>\n",
       "      <td>0.000420</td>\n",
       "      <td>0.0</td>\n",
       "      <td>0.0</td>\n",
       "      <td>0.002366</td>\n",
       "      <td>0</td>\n",
       "      <td>0</td>\n",
       "      <td>0</td>\n",
       "    </tr>\n",
       "    <tr>\n",
       "      <th>2</th>\n",
       "      <td>2150-001-OD-FE-SCR-KESTREL-191623.f540fea</td>\n",
       "      <td>2</td>\n",
       "      <td>1.0</td>\n",
       "      <td>0.0</td>\n",
       "      <td>0.0</td>\n",
       "      <td>0.0</td>\n",
       "      <td>0.0</td>\n",
       "      <td>0.0</td>\n",
       "      <td>0.0</td>\n",
       "      <td>0.0</td>\n",
       "      <td>...</td>\n",
       "      <td>0.000218</td>\n",
       "      <td>0.0</td>\n",
       "      <td>0.0</td>\n",
       "      <td>0.001383</td>\n",
       "      <td>0.0</td>\n",
       "      <td>0.0</td>\n",
       "      <td>0.001641</td>\n",
       "      <td>0</td>\n",
       "      <td>0</td>\n",
       "      <td>0</td>\n",
       "    </tr>\n",
       "    <tr>\n",
       "      <th>3</th>\n",
       "      <td>2150-001-OD-FE-SCR-KESTREL-191623.f540fea</td>\n",
       "      <td>3</td>\n",
       "      <td>1.0</td>\n",
       "      <td>0.0</td>\n",
       "      <td>0.0</td>\n",
       "      <td>0.0</td>\n",
       "      <td>0.0</td>\n",
       "      <td>0.0</td>\n",
       "      <td>0.0</td>\n",
       "      <td>0.0</td>\n",
       "      <td>...</td>\n",
       "      <td>0.000685</td>\n",
       "      <td>0.0</td>\n",
       "      <td>0.0</td>\n",
       "      <td>0.000795</td>\n",
       "      <td>0.0</td>\n",
       "      <td>0.0</td>\n",
       "      <td>0.003827</td>\n",
       "      <td>0</td>\n",
       "      <td>0</td>\n",
       "      <td>0</td>\n",
       "    </tr>\n",
       "    <tr>\n",
       "      <th>4</th>\n",
       "      <td>2150-001-OD-FE-SCR-KESTREL-191623.f540fea</td>\n",
       "      <td>4</td>\n",
       "      <td>1.0</td>\n",
       "      <td>0.0</td>\n",
       "      <td>0.0</td>\n",
       "      <td>0.0</td>\n",
       "      <td>0.0</td>\n",
       "      <td>0.0</td>\n",
       "      <td>0.0</td>\n",
       "      <td>0.0</td>\n",
       "      <td>...</td>\n",
       "      <td>0.000673</td>\n",
       "      <td>0.0</td>\n",
       "      <td>0.0</td>\n",
       "      <td>0.000818</td>\n",
       "      <td>0.0</td>\n",
       "      <td>0.0</td>\n",
       "      <td>0.008639</td>\n",
       "      <td>0</td>\n",
       "      <td>0</td>\n",
       "      <td>0</td>\n",
       "    </tr>\n",
       "  </tbody>\n",
       "</table>\n",
       "<p>5 rows × 23 columns</p>\n",
       "</div>"
      ],
      "text/plain": [
       "                                  image_name  bscan  healthy_true  \\\n",
       "0  2150-001-OD-FE-SCR-KESTREL-191623.f540fea      0           1.0   \n",
       "1  2150-001-OD-FE-SCR-KESTREL-191623.f540fea      1           1.0   \n",
       "2  2150-001-OD-FE-SCR-KESTREL-191623.f540fea      2           1.0   \n",
       "3  2150-001-OD-FE-SCR-KESTREL-191623.f540fea      3           1.0   \n",
       "4  2150-001-OD-FE-SCR-KESTREL-191623.f540fea      4           1.0   \n",
       "\n",
       "   present_srf_true  present_irf_true  mm1_srf_true  mm3_srf_true  \\\n",
       "0               0.0               0.0           0.0           0.0   \n",
       "1               0.0               0.0           0.0           0.0   \n",
       "2               0.0               0.0           0.0           0.0   \n",
       "3               0.0               0.0           0.0           0.0   \n",
       "4               0.0               0.0           0.0           0.0   \n",
       "\n",
       "   mm6_srf_true  mm1_irf_true  mm3_irf_true  ...  present_irf_pred  \\\n",
       "0           0.0           0.0           0.0  ...          0.001248   \n",
       "1           0.0           0.0           0.0  ...          0.000440   \n",
       "2           0.0           0.0           0.0  ...          0.000218   \n",
       "3           0.0           0.0           0.0  ...          0.000685   \n",
       "4           0.0           0.0           0.0  ...          0.000673   \n",
       "\n",
       "   mm1_srf_pred  mm3_srf_pred  mm6_srf_pred  mm1_irf_pred  mm3_irf_pred  \\\n",
       "0           0.0           0.0      0.000449           0.0           0.0   \n",
       "1           0.0           0.0      0.000420           0.0           0.0   \n",
       "2           0.0           0.0      0.001383           0.0           0.0   \n",
       "3           0.0           0.0      0.000795           0.0           0.0   \n",
       "4           0.0           0.0      0.000818           0.0           0.0   \n",
       "\n",
       "   mm6_irf_pred  FN  FP  TP  \n",
       "0      0.005327   0   0   0  \n",
       "1      0.002366   0   0   0  \n",
       "2      0.001641   0   0   0  \n",
       "3      0.003827   0   0   0  \n",
       "4      0.008639   0   0   0  \n",
       "\n",
       "[5 rows x 23 columns]"
      ]
     },
     "execution_count": 11,
     "metadata": {},
     "output_type": "execute_result"
    }
   ],
   "source": [
    "data.head()"
   ]
  },
  {
   "cell_type": "code",
   "execution_count": 12,
   "metadata": {},
   "outputs": [],
   "source": [
    "data_fp = data[data['FP'] == 1].copy().reset_index(drop=True)\n",
    "data_fn = data[data['FN'] == 1].copy().reset_index(drop=True)\n",
    "data_tp = data[data['TP'] == 1].copy().reset_index(drop=True)"
   ]
  },
  {
   "cell_type": "code",
   "execution_count": 13,
   "metadata": {},
   "outputs": [
    {
     "name": "stdout",
     "output_type": "stream",
     "text": [
      "66 44 50\n"
     ]
    }
   ],
   "source": [
    "print(len(data_fn), len(data_tp), len(data_fp))"
   ]
  },
  {
   "cell_type": "markdown",
   "metadata": {},
   "source": [
    "### Draw lines and save images "
   ]
  },
  {
   "cell_type": "code",
   "execution_count": 14,
   "metadata": {},
   "outputs": [],
   "source": [
    "def get_lines(mask):\n",
    "    lines = {'1mm': [], '3mm': [], '6mm': []}\n",
    "    for i_ring, ring in enumerate(lines.keys()):\n",
    "        for i in range(1, len(mask[i_ring])):\n",
    "            if mask[i_ring][i] != mask[i_ring][i - 1]:\n",
    "                lines[ring].append(i)\n",
    "    return lines"
   ]
  },
  {
   "cell_type": "code",
   "execution_count": 68,
   "metadata": {},
   "outputs": [],
   "source": [
    "def draw_lines(im, lines, type_line):\n",
    "    draw = ImageDraw.Draw(im)\n",
    "    text_written = []\n",
    "    \n",
    "    if type_line == 'ring':\n",
    "        width = 3\n",
    "        fill = 256\n",
    "        \n",
    "        for ring in lines.keys():\n",
    "            for i_line in range(len(lines[ring])):\n",
    "                line = lines[ring][i_line]\n",
    "                if line not in text_written:\n",
    "                    if i_line < len(lines[ring]) // 2:\n",
    "                        text_written.append(line)\n",
    "                        draw.text((line + 10, 400), ring, fill=256, font=font)\n",
    "                    draw.line((line, 35, line, im.size[-1]), fill=256, width=width)\n",
    "                \n",
    "    else:\n",
    "        BLUE = \"#0000ff\"\n",
    "        width = 2\n",
    "        for line in lines:\n",
    "            draw.line((line, 35, line, im.size[-1]), fill=BLUE, width=width)\n",
    "                \n",
    "    return im, draw"
   ]
  },
  {
   "cell_type": "code",
   "execution_count": 69,
   "metadata": {},
   "outputs": [],
   "source": [
    "font = ImageFont.truetype(\"Arial.ttf\", 22)"
   ]
  },
  {
   "cell_type": "code",
   "execution_count": 77,
   "metadata": {},
   "outputs": [],
   "source": [
    "def save_modified_files(df, type_df):\n",
    "    os.makedirs(f'../results/{folder_in_results}/{type_df}_{ring_extract}', exist_ok=True)\n",
    "    lines_cols = list(range(0, 512, int(512/16)))\n",
    "    for i_sample in range(len(df)):\n",
    "        row = df.iloc[i_sample]\n",
    "        folder_name = row['image_name']\n",
    "        bscan = row['bscan']\n",
    "        \n",
    "        text = 'Present: {:.2f} - 1mm: {:.2f} - 3mm: {:.2f} - 6mm: {:.2f}'.format(\n",
    "            row['present_srf_pred'], row['mm1_srf_pred'], row['mm3_srf_pred'], row['mm6_srf_pred'])\n",
    "\n",
    "        image_path = datasets_path.joinpath('extractedTifs', folder_name, 'img_{:02d}.jpg'.format(bscan))\n",
    "        mask = [mask_generator[i][0, :, bscan] for i in range(len(mask_generator))]\n",
    "\n",
    "        im = Image.open(image_path)\n",
    "        if clahe:\n",
    "            img_adapteq = exposure.equalize_adapthist(np.array(im))\n",
    "            im = Image.fromarray(np.uint8(img_adapteq*255))\n",
    "\n",
    "        lines = get_lines(mask)\n",
    "        im, draw = draw_lines(im, lines, 'ring')\n",
    "        draw.text((10, 10), text, fill=256, font=font)\n",
    "        im = im.save(f'../results/{folder_in_results}/{type_df}_{ring_extract}/{folder_name}_{bscan}.jpg')"
   ]
  },
  {
   "cell_type": "code",
   "execution_count": 78,
   "metadata": {},
   "outputs": [],
   "source": [
    "#save_modified_files(data_tp, 'TP')\n",
    "save_modified_files(data_fp, 'FP')\n",
    "#save_modified_files(data_fn, 'FN')"
   ]
  },
  {
   "cell_type": "code",
   "execution_count": 35,
   "metadata": {},
   "outputs": [],
   "source": []
  },
  {
   "cell_type": "code",
   "execution_count": null,
   "metadata": {},
   "outputs": [],
   "source": []
  }
 ],
 "metadata": {
  "kernelspec": {
   "display_name": "Python 3",
   "language": "python",
   "name": "python3"
  },
  "language_info": {
   "codemirror_mode": {
    "name": "ipython",
    "version": 3
   },
   "file_extension": ".py",
   "mimetype": "text/x-python",
   "name": "python",
   "nbconvert_exporter": "python",
   "pygments_lexer": "ipython3",
   "version": "3.7.9"
  }
 },
 "nbformat": 4,
 "nbformat_minor": 4
}
